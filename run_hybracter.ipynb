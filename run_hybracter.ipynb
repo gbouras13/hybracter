{
  "cells": [
    {
      "cell_type": "markdown",
      "metadata": {
        "id": "view-in-github"
      },
      "source": [
        "<a href=\"https://colab.research.google.com/github/gbouras13/phold/blob/main/run_pharokka_and_phold.ipynb\" target=\"_parent\"><img src=\"https://colab.research.google.com/assets/colab-badge.svg\" alt=\"Open In Colab\"/></a>"
      ]
    },
    {
      "cell_type": "markdown",
      "metadata": {
        "id": "QGd2GEI3N-02"
      },
      "source": [
        "##Hybracter\n",
        "\n",
        "[hybracter](https://github.com/gbouras13/hybracter)  is an automated long-read first bacterial genome assembly tool. You can read more about hybracter in the [documentation](https://hybracter.readthedocs.io/).\n",
        "\n",
        "**This notebook can be used to run Hybracter hybrid and/or Hybracter long with single isolates. If you have more than this, I'd recommend a local install to run Hybracter**\n",
        "\n",
        "**To run the code cells, press the play buttons on the top left of each block**\n",
        "\n",
        "Main Instructions\n",
        "\n",
        "* Cells 1 and 2 installs hybracter, downloads the databases and runs tests. These must be run first.\n",
        "* Once they have been run, you can run either Cell 3, Cell 4 or both as many times as you wish.\n",
        "* To run hybracter hybrid-single, run Cell 3.\n",
        "* To run hybracter long-single, run Cell 4 (you can skip Cell 3).\n",
        "\n",
        "Other instructions\n",
        "\n",
        "* Please make sure you change the runtime to CPU (GPU is not required).\n",
        "* To do this, go to the top toolbar, then to Runtime -> Change runtime type -> Hardware accelerator\n",
        "* You may want to upload your FASTQ files first as this takes a while for large files\n",
        "* Click on the folder icon to the left and use file upload button (with the upwards facing arrow)\n"
      ]
    },
    {
      "cell_type": "code",
      "execution_count": 1,
      "metadata": {
        "colab": {
          "base_uri": "https://localhost:8080/"
        },
        "id": "Ii39RG8eOZUx",
        "outputId": "25baa471-73dc-408c-cef4-9a8ba72f80a9"
      },
      "outputs": [
        {
          "name": "stdout",
          "output_type": "stream",
          "text": [
            "3.10\n",
            "installing mamba...\n",
            "installing hybracter ...\n",
            "CPU times: user 163 ms, sys: 24.4 ms, total: 188 ms\n",
            "Wall time: 44 s\n"
          ]
        }
      ],
      "source": [
        "#@title 1. Install hybracter\n",
        "\n",
        "#@markdown This cell installs hybracter. It will take a few minutes. Please be patient\n",
        "\n",
        "%%time\n",
        "import os\n",
        "from sys import version_info\n",
        "python_version = f\"{version_info.major}.{version_info.minor}\"\n",
        "PYTHON_VERSION = python_version\n",
        "HYBRACTER_VERSION = \"0.7.3\"\n",
        "\n",
        "\n",
        "print(PYTHON_VERSION)\n",
        "\n",
        "if not os.path.isfile(\"MAMBA_READY\"):\n",
        "  print(\"installing mamba...\")\n",
        "  os.system(\"wget -qnc https://github.com/conda-forge/miniforge/releases/latest/download/Mambaforge-Linux-x86_64.sh\")\n",
        "  os.system(\"bash Mambaforge-Linux-x86_64.sh -bfp /usr/local\")\n",
        "  os.system(\"mamba config --set auto_update_conda false\")\n",
        "  os.system(\"touch MAMBA_READY\")\n",
        "\n",
        "if not os.path.isfile(\"HYBRACTER_READY\"):\n",
        "  print(\"installing hybracter ...\")\n",
        "  os.system(f\"mamba install -y -c conda-forge -c bioconda python='{PYTHON_VERSION}' hybracter=={HYBRACTER_VERSION}\")\n",
        "  os.system(\"touch HYBRACTER_READY\")\n"
      ]
    },
    {
      "cell_type": "code",
      "execution_count": 5,
      "metadata": {
        "colab": {
          "base_uri": "https://localhost:8080/"
        },
        "id": "tfltpbZ_QLfZ",
        "outputId": "69600da4-6956-44af-aff6-168dbcf727ad"
      },
      "outputs": [
        {
          "name": "stdout",
          "output_type": "stream",
          "text": [
            "Downloading hybracter database. This will take some time. Please be patient :)\n",
            "Running hybracter tests to install all environments. This will take some time. Please be patient :)\n",
            "CPU times: user 114 ms, sys: 20.3 ms, total: 134 ms\n",
            "Wall time: 28.1 s\n"
          ]
        },
        {
          "data": {
            "text/plain": [
              "0"
            ]
          },
          "execution_count": 5,
          "metadata": {},
          "output_type": "execute_result"
        }
      ],
      "source": [
        "#@title 2. Download hybracter database and tet\n",
        "\n",
        "#@markdown This cell downloads the hybracter database and runs tests to install all environments.\n",
        "#@markdown It will take some time (20-30 mins). Please be patient.\n",
        "\n",
        "%%time\n",
        "os.environ[\"CUDA_VISIBLE_DEVICES\"]=\"\"\n",
        "THREADS = \"2\"\n",
        "print(\"Downloading hybracter database. This will take some time. Please be patient :)\")\n",
        "os.system(\"hybracter install\")\n",
        "print(\"Running hybracter tests to install all environments. This will take some time. Please be patient :)\")\n",
        "os.system(f\"hybracter test-hybrid --threads {THREADS}\")\n",
        "os.system(f\"hybracter test-long --threads {THREADS}\")\n",
        "os.system(f\"rm -rf hybracter_out\")\n"
      ]
    },
    {
      "cell_type": "code",
      "execution_count": null,
      "metadata": {
        "colab": {
          "base_uri": "https://localhost:8080/"
        },
        "id": "Sjdpu6R-Kig9",
        "outputId": "f6cff839-4ff2-4012-bc78-b3e7d6981f5b"
      },
      "outputs": [
        {
          "name": "stdout",
          "output_type": "stream",
          "text": [
            "Input file E_faecalis_CI_1043.fastq.gz exists\n",
            "Input file 1043_S42_R1_001.fastq.gz exists\n",
            "Input file 1043_S42_R2_001.fastq.gz exists\n",
            "Running hybracter hybrid-single\n"
          ]
        }
      ],
      "source": [
        "#@title 3. Run Hybracter Hybrid\n",
        "\n",
        "#@markdown First, upload your long-reads as a single input .fastq or .fastq.gz file\n",
        "\n",
        "#@markdown Click on the folder icon to the left and use file upload button.\n",
        "\n",
        "#@markdown Once it is uploaded, write the file name in the LONG_FASTQ field on the right.\n",
        "\n",
        "#@markdown Then, upload your short-reads as 2 input .fastq or .fastq.gz files\n",
        "\n",
        "#@markdown Click on the folder icon to the left and use file upload button.\n",
        "\n",
        "#@markdown Once they are uploaded, write the forward (R1) file name in the R1_FASTQ field on the right and the the reverse (R2) file name in the R2_FASTQ field on the right.\n",
        "\n",
        "#@markdown Then provide a directory for hybracter's output using HYBRACTER_OUT_DIR.\n",
        "#@markdown The default is 'hybracter_hybrid_output'.\n",
        "\n",
        "#@markdown Then provide a sample name using SAMPLE.\n",
        "#@markdown The default is 'sample'.\n",
        "\n",
        "#@markdown Then provide an estimated chromosome size (as an integer) name using CHROMOSOME.\n",
        "#@markdown The default is 1000000.\n",
        "\n",
        "#@markdown You can also provide a min_length for QC filtering the long read data with MIN_LENGTH.\n",
        "#@markdown If you provide nothing it will default to 1000.\n",
        "\n",
        "#@markdown You can also provide a min_quality for QC filtering the long read data with MIN_QUALITY.\n",
        "#@markdown If you provide nothing it will default to 9.\n",
        "\n",
        "#@markdown You can also provide a flyeModel specifying the Flye model with FLYE_MODEL.\n",
        "#@markdown If you provide nothing it will default to '--nano-hq'.\n",
        "\n",
        "#@markdown You can also provide a medakaModel specifying the Medaka polishing model with MEDAKA_MODEL.\n",
        "#@markdown If you provide nothing it will default to 'r1041_e82_400bps_sup_v4.2.0'.\n",
        "\n",
        "#@markdown You can click NO_MEDAKA to turn off medaka polishing (recommended for the latest Q20+ SUP v4.3.0 Nanopore data).\n",
        "#@markdown By default it is False.\n",
        "\n",
        "#@markdown The results of hybracter hybrid-single will be in the folder icon on the left hand panel.\n",
        "#@markdown Additionally, it will be zipped so you can download the whole directory.\n",
        "\n",
        "#@markdown The file to download is HYBRACTER_OUT_DIR.zip, where HYBRACTER_OUT_DIR is what you provided\n",
        "\n",
        "#@markdown If you do not see the output directory,\n",
        "#@markdown refresh the window by either clicking the folder with the refresh icon below \"Files\"\n",
        "#@markdown or double click and select \"Refresh\".\n",
        "\n",
        "\n",
        "%%time\n",
        "import os\n",
        "import sys\n",
        "import subprocess\n",
        "import zipfile\n",
        "LONG_FASTQ = '' #@param {type:\"string\"}\n",
        "R1_FASTQ = '' #@param {type:\"string\"}\n",
        "R2_FASTQ = '' #@param {type:\"string\"}\n",
        "\n",
        "if os.path.exists(LONG_FASTQ):\n",
        "    print(f\"Input file {LONG_FASTQ} exists\")\n",
        "else:\n",
        "    print(f\"Error: File {LONG_FASTQ} does not exist\")\n",
        "    print(f\"Please check the spelling and that you have uploaded it correctly\")\n",
        "    sys.exit(1)\n",
        "\n",
        "if os.path.exists(R1_FASTQ):\n",
        "    print(f\"Input file {R1_FASTQ} exists\")\n",
        "else:\n",
        "    print(f\"Error: File {R1_FASTQ} does not exist\")\n",
        "    print(f\"Please check the spelling and that you have uploaded it correctly\")\n",
        "    sys.exit(1)\n",
        "\n",
        "if os.path.exists(R2_FASTQ):\n",
        "    print(f\"Input file {R2_FASTQ} exists\")\n",
        "else:\n",
        "    print(f\"Error: File {R2_FASTQ} does not exist\")\n",
        "    print(f\"Please check the spelling and that you have uploaded it correctly\")\n",
        "    sys.exit(1)\n",
        "\n",
        "HYBRACTER_OUT_DIR = 'hybracter_hybrid_output'  #@param {type:\"string\"}\n",
        "SAMPLE = 'sample'  #@param {type:\"string\"}\n",
        "CHROMOSOME = 1000000  #@param {type:\"integer\"}\n",
        "MIN_LENGTH = 1000  #@param {type:\"integer\"}\n",
        "MIN_QUALITY = 9  #@param {type:\"integer\"}\n",
        "FLYE_MODEL = '--nano-hq'  #@param {type:\"string\"}\n",
        "MEDAKA_MODEL = 'r1041_e82_400bps_sup_v4.2.0'  #@param {type:\"string\"}\n",
        "NO_MEDAKA = False  #@param {type:\"boolean\"}\n",
        "\n",
        "# Construct the command\n",
        "command = f\"hybracter hybrid-single -s {SAMPLE} -c {CHROMOSOME} -l {LONG_FASTQ} -1 {R1_FASTQ} -2 {R2_FASTQ} -o {HYBRACTER_OUT_DIR} -t {THREADS} --min_length {MIN_LENGTH} --min_quality {MIN_QUALITY} --flyeModel {FLYE_MODEL}\"\n",
        "\n",
        "# if no medaka is false, add in the medaka model\n",
        "if NO_MEDAKA is False:\n",
        "  command = f\"{command} --medakaModel {MEDAKA_MODEL}\"\n",
        "else:\n",
        "  command = f\"{command} --no_medaka\"\n",
        "\n",
        "# Execute the command\n",
        "try:\n",
        "    print(\"Running hybracter hybrid-single\")\n",
        "    subprocess.run(command, shell=True, check=True)\n",
        "    print(\"hybracter hybrid-single completed successfully.\")\n",
        "    print(f\"Your output is in {HYBRACTER_OUT_DIR}.\")\n",
        "    print(f\"Zipping the output directory so you can download it all in one go.\")\n",
        "\n",
        "    zip_filename = f\"{HYBRACTER_OUT_DIR}.zip\"\n",
        "\n",
        "    # Zip the contents of the output directory\n",
        "    with zipfile.ZipFile(zip_filename, 'w', zipfile.ZIP_DEFLATED) as zipf:\n",
        "        for root, dirs, files in os.walk(HYBRACTER_OUT_DIR):\n",
        "            for file in files:\n",
        "                zipf.write(os.path.join(root, file), os.path.relpath(os.path.join(root, file), HYBRACTER_OUT_DIR))\n",
        "    print(f\"Output directory has been zipped to {zip_filename}\")\n",
        "\n",
        "\n",
        "except subprocess.CalledProcessError as e:\n",
        "    print(f\"Error occurred: {e}\")\n",
        "\n",
        "\n",
        "\n",
        "\n",
        "\n"
      ]
    },
    {
      "cell_type": "code",
      "execution_count": null,
      "metadata": {
        "colab": {
          "base_uri": "https://localhost:8080/"
        },
        "id": "9QfjP3q-Q04f",
        "outputId": "36a9722e-9bdf-4aee-ad31-0c05bae81e27"
      },
      "outputs": [
        {
          "name": "stdout",
          "output_type": "stream",
          "text": [
            "Running phold\n",
            "phold completed successfully.\n",
            "Your output is in output_phold.\n",
            "Zipping the output directory so you can download it all in one go.\n",
            "Output directory has been zipped to output_phold.zip\n",
            "CPU times: user 1.25 s, sys: 153 ms, total: 1.4 s\n",
            "Wall time: 4min 17s\n"
          ]
        }
      ],
      "source": [
        "#@title 4. Run Hybracter Long\n",
        "\n",
        "#@markdown First, upload your long-reads as a single input .fastq or .fastq.gz file\n",
        "\n",
        "#@markdown Click on the folder icon to the left and use file upload button.\n",
        "\n",
        "#@markdown Once it is uploaded, write the file name in the LONG_FASTQ field on the right.\n",
        "\n",
        "#@markdown Then provide a directory for hybracter's output using HYBRACTER_OUT_DIR.\n",
        "#@markdown The default is 'hybracter_long_output'.\n",
        "\n",
        "#@markdown Then provide a sample name using SAMPLE.\n",
        "#@markdown The default is 'sample'.\n",
        "\n",
        "#@markdown Then provide an estimated chromosome size (as an integer) name using CHROMOSOME.\n",
        "#@markdown The default is 1000000.\n",
        "\n",
        "#@markdown You can also provide a min_length for QC filtering the long read data with MIN_LENGTH.\n",
        "#@markdown If you provide nothing it will default to 1000.\n",
        "\n",
        "#@markdown You can also provide a min_quality for QC filtering the long read data with MIN_QUALITY.\n",
        "#@markdown If you provide nothing it will default to 9.\n",
        "\n",
        "#@markdown You can also provide a flyeModel specifying the Flye model with FLYE_MODEL.\n",
        "#@markdown If you provide nothing it will default to '--nano-hq'.\n",
        "\n",
        "#@markdown You can also provide a medakaModel specifying the Medaka polishing model with MEDAKA_MODEL.\n",
        "#@markdown If you provide nothing it will default to 'r1041_e82_400bps_sup_v4.2.0'.\n",
        "\n",
        "#@markdown You can click NO_MEDAKA to turn off medaka polishing (recommended for the latest Q20+ SUP v4.3.0 Nanopore data).\n",
        "#@markdown By default it is False.\n",
        "\n",
        "#@markdown The results of hybracter hybrid-single will be in the folder icon on the left hand panel.\n",
        "#@markdown Additionally, it will be zipped so you can download the whole directory.\n",
        "\n",
        "#@markdown The file to download is HYBRACTER_OUT_DIR.zip, where HYBRACTER_OUT_DIR is what you provided\n",
        "\n",
        "#@markdown If you do not see the output directory,\n",
        "#@markdown refresh the window by either clicking the folder with the refresh icon below \"Files\"\n",
        "#@markdown or double click and select \"Refresh\".\n",
        "\n",
        "\n",
        "%%time\n",
        "import os\n",
        "import sys\n",
        "import subprocess\n",
        "import zipfile\n",
        "LONG_FASTQ = '' #@param {type:\"string\"}\n",
        "\n",
        "if os.path.exists(LONG_FASTQ):\n",
        "    print(f\"Input file {LONG_FASTQ} exists\")\n",
        "else:\n",
        "    print(f\"Error: File {LONG_FASTQ} does not exist\")\n",
        "    print(f\"Please check the spelling and that you have uploaded it correctly\")\n",
        "    sys.exit(1)\n",
        "\n",
        "HYBRACTER_OUT_DIR = 'hybracter_long_output'  #@param {type:\"string\"}\n",
        "SAMPLE = 'sample'  #@param {type:\"string\"}\n",
        "CHROMOSOME = 1000000  #@param {type:\"integer\"}\n",
        "MIN_LENGTH = 1000  #@param {type:\"integer\"}\n",
        "MIN_QUALITY = 9  #@param {type:\"integer\"}\n",
        "FLYE_MODEL = '--nano-hq'  #@param {type:\"string\"}\n",
        "MEDAKA_MODEL = 'r1041_e82_400bps_sup_v4.2.0'  #@param {type:\"string\"}\n",
        "NO_MEDAKA = False  #@param {type:\"boolean\"}\n",
        "\n",
        "# Construct the command\n",
        "command = f\"hybracter long-single -s {SAMPLE} -c {CHROMOSOME} -l {LONG_FASTQ} -o {HYBRACTER_OUT_DIR} -t {THREADS} --min_length {MIN_LENGTH} --min_quality {MIN_QUALITY} --flyeModel {FLYE_MODEL}\"\n",
        "\n",
        "# if no medaka is false, add in the medaka model\n",
        "if NO_MEDAKA is False:\n",
        "  command = f\"{command} --medakaModel {MEDAKA_MODEL}\"\n",
        "else:\n",
        "  command = f\"{command} --no_medaka\"\n",
        "\n",
        "# Execute the command\n",
        "try:\n",
        "    print(\"Running hybracter long-single\")\n",
        "    subprocess.run(command, shell=True, check=True)\n",
        "    print(\"hybracter long-single completed successfully.\")\n",
        "    print(f\"Your output is in {HYBRACTER_OUT_DIR}.\")\n",
        "    print(f\"Zipping the output directory so you can download it all in one go.\")\n",
        "\n",
        "    zip_filename = f\"{HYBRACTER_OUT_DIR}.zip\"\n",
        "\n",
        "    # Zip the contents of the output directory\n",
        "    with zipfile.ZipFile(zip_filename, 'w', zipfile.ZIP_DEFLATED) as zipf:\n",
        "        for root, dirs, files in os.walk(HYBRACTER_OUT_DIR):\n",
        "            for file in files:\n",
        "                zipf.write(os.path.join(root, file), os.path.relpath(os.path.join(root, file), HYBRACTER_OUT_DIR))\n",
        "    print(f\"Output directory has been zipped to {zip_filename}\")\n",
        "\n",
        "\n",
        "except subprocess.CalledProcessError as e:\n",
        "    print(f\"Error occurred: {e}\")\n",
        "\n",
        "\n",
        "\n",
        "\n",
        "\n"
      ]
    }
  ],
  "metadata": {
    "colab": {
      "provenance": []
    },
    "kernelspec": {
      "display_name": "Python 3",
      "name": "python3"
    },
    "language_info": {
      "name": "python"
    }
  },
  "nbformat": 4,
  "nbformat_minor": 0
}
